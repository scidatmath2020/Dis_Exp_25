{
 "cells": [
  {
   "cell_type": "markdown",
   "id": "5654b7b4-c2a8-4007-a319-7a8b7853b2df",
   "metadata": {},
   "source": [
    "<img src=\"logo.png\">"
   ]
  },
  {
   "cell_type": "markdown",
   "id": "fc92df8f-0707-49a7-b45c-ea93e4cc7d95",
   "metadata": {},
   "source": [
    "# Diseño Profesional de Experimentos\n",
    "\n",
    "## Presentación\n",
    "\n",
    "Mi nombre es **Héctor Manuel Garduño Castañeda**. Soy licenciado en Matemáticas egresado de la BUAP; tengo una maestría en Matemáticas por parte de la UAM-I y actualmente estoy terminando un doctorado también en la UAM-I y **Director General del Proyecto SciData Math** donde impartiremos el curso online de **Diseño Profesional de experimentos** mediante sesiones en vivo de <span style=\"color:red; font-weight:bold\">lunes a viernes de 8:00 pm a 10:00 pm</span> (hora de CDMX), <span style=\"color:red; font-weight:bold\">comenzando el 7 de julio y finalizando el 2 de agosto</span>. \n",
    "\n",
    "<br>\n",
    "\n",
    "Si no puedes conectarte a las sesiones en vivo, cada sesión es grabada y se les envía diariamente, por lo cual podrás revisar los videos las veces que quieras, incluso después de terminado el curso o descargarlos en tu pc. Además, no se requieren conocimientos de ningún tipo, ya que es completamente desde cero.\n",
    "\n",
    "<br>\n",
    " \n",
    "El Curso de **Diseño profesional de experimentos** está pensado para alumnos con o sin experiencia estadística <span style=\"color:blue\">**tiene por objetivo brindar a los participantes una comprensión sólida y aplicada del diseño experimental, desde los fundamentos estadísticos hasta la planificación y análisis de experimentos en contextos reales. A través del uso de herramientas como Excel, R y Python, los alumnos aprenderán a estructurar experimentos eficientes, interpretar resultados con rigor, optimizar procesos y tomar decisiones informadas.**</span>\n",
    "\n",
    "<br>"
   ]
  },
  {
   "cell_type": "markdown",
   "id": "ea01a6be-f4ec-43b3-9a6d-fc0fe19deee6",
   "metadata": {},
   "source": [
    "<img src=\"im01.png\" style=\"display:block; margin:auto;\" width=\"1200\">\n",
    "\n",
    "**El curso está diseñado para que aprendas a trabajar desde cero y no necesitas ningún conocimiento previo.**  Usaremos herramientas accesibles como Excel y algunos ejemplos en R o Python (guiados paso a paso), y veremos cómo aplicar estos conocimientos en áreas como calidad, salud, educación, tecnología o negocios. También se abordarán temas como cómo evitar errores comunes, cómo interpretar los resultados con sentido práctico y cómo comunicar los hallazgos con claridad. El curso no se queda en la teoría: prepara a los alumnos para aplicar el diseño experimental en problemas reales y con impacto profesional.\n"
   ]
  },
  {
   "cell_type": "markdown",
   "id": "0cdabf9f-37fa-435d-96f9-715d9343157a",
   "metadata": {},
   "source": [
    "## Acerca de SciData\n",
    "\n",
    "Te comento sobre mi experiencia laboral: fui jefe de Departamento de Implementación y desarrollo de vectores de validación en la Dirección General de Estadísticas de Gobierno, Seguridad Pública y Justicia en INEGI hace unos años. Como esta dirección era nueva, nuestro propósito fue construir todos nuestros índices, mapas e informes desde cero, de modo que tuvimos que aprender estos lenguajes de programación y hacer que entre ellos interactúen. Y justo ese es el objetivo del **Proyecto SciData: tomando todos los talleres y cursos que ofrecemos, el alumno será capaz de moverse libre y cómodamente en el análisis de datos**.\n",
    "\n",
    "<br>\n",
    "\n",
    "Por otra parte, tengo más de 10 años ejerciendo como docente en todos los niveles (desde primaria hasta posgrados). En los últimos años me he dedicado a la enseñanza de Probabilidad, Estadística y Matemáticas en general tanto a estudiantes de ciencias sociales como de ingenierías y ciencias exactas, por lo cual tengo experiencia explicando conceptos avanzados de forma simple sin importar el área de estudio\n",
    "\n",
    "<br>\n",
    " \n",
    "Contamos con material escrito en **https://github.com/scidatmath2020?tab=repositories**, que puedes descargar o consultar directamente en la red en cualquier momento. Las dudas no atendidas durante las sesiones en vivo se pueden resolver por correo electrónico o en nuestro foro de consultas, que puedes visitar en [**Scidata: Foro público de consultas para nuestros alumnos**](https://www.facebook.com/groups/2476414855808297/). Los videos no se eliminan ni siquiera después de terminar el curso y puedes seguir enviando tus dudas y preguntas a nuestro Foro o a nuestros correos, no importando que haya pasado mucho tiempo de la finalización de las clases.\n",
    "\n",
    "<br>"
   ]
  },
  {
   "cell_type": "markdown",
   "id": "a685f1b6-30a7-49ff-b0cd-aea816e945a2",
   "metadata": {},
   "source": [
    "## Temario\n",
    "\n",
    "El temario es el siguiente:\n",
    "\n",
    "<br>"
   ]
  },
  {
   "cell_type": "markdown",
   "id": "19d6616c-dccc-40a4-912b-92332246b56c",
   "metadata": {},
   "source": [
    "<img src=\"im02.png\" style=\"display:block; margin:auto;\" width=\"1200\">"
   ]
  },
  {
   "cell_type": "markdown",
   "id": "5bcfa3b4-9f4b-47cb-86e6-361ae1d75c59",
   "metadata": {},
   "source": [
    "## Precios y promociones\n",
    "\n",
    "El **curso completo tiene un costo de $430 pesos mexicanos (24 dólares americanos)** e incluye como regalo el <span style=\"color:blue\">**Taller de Introducción a Ciencia de Datos con R, con duración de 20 horas y el Minitaller de Dashboards con Power BI**</span>.  \n",
    "\n",
    "Además te podemos ofrecer varios otros de los videocursos que hemos dado, los cuales son\n",
    " \n",
    "**1) Estadística con Excel.** Se trata de un curso de Estadística Descriptiva con Excel donde se aborda tanto la teoría como la práctica; ideal si no tienes conocimientos de estadística. Tiene una duración de 30 horas.\n",
    "\n",
    "**2) Power BI desde cero.** Se trata de un curso de introducción al Análisis de datos mediante Power BI; ideal si no tienes conocimientos de estadística. Tiene una duración de 30 horas.\n",
    "\n",
    "**3) Fundamentos de R** cuyo objetivo es aprender a programar con R desde cero. Consta de 30 horas de video. \n",
    "\n",
    "**4) Visualización de datos con R y Python** cuyo objetivo es aprender a crear gráficos llamativos con R y Python. Consta de 40 horas de video.\n",
    "\n",
    "**5) Fundamentos de Python** cuyo objetivo es aprender a programar con Python desde cero. Duración de 40 horas.\n",
    "\n",
    "\n",
    "   Las promociones que tenemos las manejamos con los siguientes paquetes:"
   ]
  },
  {
   "cell_type": "markdown",
   "id": "f8ebe61f-7b4d-4154-9058-e9aeab15469b",
   "metadata": {},
   "source": [
    "<img src=\"im03.png\" style=\"display:block; margin:auto;\" width=\"1200\">"
   ]
  },
  {
   "cell_type": "markdown",
   "id": "2d78a1bc-1242-4d7a-a1dd-3acdcf7de990",
   "metadata": {},
   "source": [
    "De los cursos extra recibirías los videos y el material escrito, y del curso de **Diseño de Experimentos** sería el material escrito, el acceso a las sesiones en vivo y los videos de las sesiones diariamente."
   ]
  },
  {
   "cell_type": "markdown",
   "id": "a1fc9986-62ad-4315-876c-46a624d98f88",
   "metadata": {},
   "source": [
    "## Formas de pago y proceso de inscripción\n",
    "\n",
    "De tratarse de pago en pesos mexicanos, es a cualquiera de las dos siguientes cuentas, ambas de BBVA, a nombre de Héctor Manuel Garduño Castañeda:"
   ]
  },
  {
   "cell_type": "markdown",
   "id": "a02b4e27-93aa-4329-ba33-47e00337ef25",
   "metadata": {},
   "source": [
    "<table style=\"border-collapse: collapse; font-family: Arial; text-align: center;\">\n",
    "  <tr style=\"background-color: #2E5090; color: #FFD700; font-weight: bold;\">\n",
    "    <th style=\"border: 1px solid black; padding: 10px;\">Cuenta</th>\n",
    "    <th style=\"border: 1px solid black; padding: 10px;\">Tarjeta</th>\n",
    "    <th style=\"border: 1px solid black; padding: 10px;\">Clabe</th>\n",
    "  </tr>\n",
    "  <tr style=\"background-color: #FFF2CC; font-weight: bold;\">\n",
    "    <td style=\"border: 1px solid black; padding: 10px;\">152 251 8678</td>\n",
    "    <td style=\"border: 1px solid black; padding: 10px;\">4152 3142 7867 6757</td>\n",
    "    <td style=\"border: 1px solid black; padding: 10px;\">012 180 01522518678 3</td>\n",
    "  </tr>\n",
    "  <tr style=\"background-color: #FFF2CC; font-weight: bold;\">\n",
    "    <td style=\"border: 1px solid black; padding: 10px;\">296 849 4738</td>\n",
    "    <td style=\"border: 1px solid black; padding: 10px;\">4152 3142 7867 6765</td>\n",
    "    <td style=\"border: 1px solid black; padding: 10px;\">012 180 02968494738 4</td>\n",
    "  </tr>\n",
    "</table>\n"
   ]
  },
  {
   "cell_type": "markdown",
   "id": "3de0d0ab-29c0-453a-bf7a-5f5d41ddf15e",
   "metadata": {},
   "source": [
    "Este pago puede ser mediante transferencia electrónica, depósito en tiendas de autoservicio o cualquier otro tipo de depósito, a nombre de Héctor Manuel Garduño Castañeda, tu servidor. En caso de pagar desde fuera de México, el pago es a scidata.math@gmail.com de PayPal o Mercado Pago en  [**https://link.mercadopago.com.mx/scidata**](https://link.mercadopago.com.mx/scidata) (estos pagos son en el equivalente a dólares). \n",
    "\n",
    "**En el supuesto en que decidas animarte, deberás enviarnos a [scidata.math@gmail.com](scidata.math@gmail.com) un screenshot o foto del recibo una vez realizado el pago indicando el paquete que adquieres. Inmediatamente te enviaré los links de los videos de Power BI y el minitaller de Introducción a Ciencia de datos junto con los cursos extra, si es que pagaste por alguno de ellos.  La constancia de culminación se te envía por este medio.**\n",
    "\n",
    "<br>\n",
    " \n",
    "Te comento que contamos con alumnos latinoamericanos en varias partes del mundo: China, Inglaterra, Francia, España, Alemania, Perú, Argentina, Colombia, Venezuela, Chile, Guatemala, Honduras, Ecuador, Canadá, Estados Unidos y por supuesto México. Finalmente, te invito a que nos sigas en **https://www.facebook.com/scidata.math/**  para que conozcas algo del trabajo que hemos venido realizando.\n",
    " \n",
    "**¿Qué te parece?** \n",
    "\n",
    "**Héctor Manuel Garduño Castañeda**\n",
    "\n",
    "**Equipo de SciData**"
   ]
  },
  {
   "cell_type": "markdown",
   "id": "fc5ed920-6b42-4ea7-bb85-09d4a74111ce",
   "metadata": {},
   "source": [
    "<img src=\"logito.png\" style=\"display:block; margin:auto;\" width=\"800\">"
   ]
  }
 ],
 "metadata": {
  "kernelspec": {
   "display_name": "Python [conda env:base] *",
   "language": "python",
   "name": "conda-base-py"
  },
  "language_info": {
   "codemirror_mode": {
    "name": "ipython",
    "version": 3
   },
   "file_extension": ".py",
   "mimetype": "text/x-python",
   "name": "python",
   "nbconvert_exporter": "python",
   "pygments_lexer": "ipython3",
   "version": "3.12.3"
  }
 },
 "nbformat": 4,
 "nbformat_minor": 5
}
